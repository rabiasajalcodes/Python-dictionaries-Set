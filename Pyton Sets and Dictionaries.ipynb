{
  "nbformat": 4,
  "nbformat_minor": 0,
  "metadata": {
    "colab": {
      "provenance": []
    },
    "kernelspec": {
      "name": "python3",
      "display_name": "Python 3"
    },
    "language_info": {
      "name": "python"
    }
  },
  "cells": [
    {
      "cell_type": "code",
      "execution_count": null,
      "metadata": {
        "id": "vR8fWCWOEj3u"
      },
      "outputs": [],
      "source": []
    },
    {
      "cell_type": "markdown",
      "source": [
        "• 1 Linear Merge\n",
        "\n",
        "Given two lists sorted in increasing order, create and return a merged list of all the elements in so\n",
        "rted order. You may modify the passed in lists. Ideally, the solution should work in &quot;linear&quot; tim\n",
        "e, making a single pass of both lists."
      ],
      "metadata": {
        "id": "GTNfSh5cEkZh"
      }
    },
    {
      "cell_type": "code",
      "source": [
        "def linear_merge(list1, list2):\n",
        "    merged_list = []\n",
        "    i, j = 0, 0\n",
        "\n",
        "    while i < len(list1) and j < len(list2):\n",
        "        if list1[i] < list2[j]:\n",
        "            merged_list.append(list1[i])\n",
        "            i += 1\n",
        "        else:\n",
        "            merged_list.append(list2[j])\n",
        "            j += 1\n",
        "\n",
        "    # Add remaining elements from list1 (if any)\n",
        "    while i < len(list1):\n",
        "        merged_list.append(list1[i])\n",
        "        i += 1\n",
        "\n",
        "    # Add remaining elements from list2 (if any)\n",
        "    while j < len(list2):\n",
        "        merged_list.append(list2[j])\n",
        "        j += 1\n",
        "\n",
        "    return merged_list\n",
        "\n",
        "# Example usage:\n",
        "list1 = [1, 3, 5, 7]\n",
        "list2 = [2, 4, 6, 8]\n",
        "print(linear_merge(list1, list2))  # Output: [1, 2, 3, 4, 5, 6, 7, 8]\n"
      ],
      "metadata": {
        "colab": {
          "base_uri": "https://localhost:8080/"
        },
        "id": "tYP0QUMpEl6D",
        "outputId": "43167eac-e43f-45b7-d568-d70e1610e816"
      },
      "execution_count": 2,
      "outputs": [
        {
          "output_type": "stream",
          "name": "stdout",
          "text": [
            "[1, 2, 3, 4, 5, 6, 7, 8]\n"
          ]
        }
      ]
    },
    {
      "cell_type": "markdown",
      "source": [
        "2 Initialize dictionary\n",
        "\n",
        "Initialize dictionary with default values. One line solution.\n",
        "Input:\n",
        "employees = [&#39;Kelly&#39;, &#39;Emma&#39;, &#39;John&#39;]\n",
        "defaults = {&quot;designation&quot;: &#39;Application Developer&#39;, &quot;salary&quot;: 8000}\n",
        "Output:\n",
        "{&#39;Kelly&#39;: {&#39;designation&#39;: &#39;Application Developer&#39;, &#39;salary&#39;: 8000}, &#39;Emma&#39;: {&#39;designation&#39;:\n",
        "&#39;Application Developer&#39;, &#39;salary&#39;: 8000}, &#39;John&#39;: {&#39;designation&#39;: &#39;Application Developer&#39;, &#39;salary&#39;:\n",
        "8000}}"
      ],
      "metadata": {
        "id": "GYfJwy2NE7k9"
      }
    },
    {
      "cell_type": "code",
      "source": [
        "employees = ['Kelly', 'Emma', 'John']\n",
        "defaults = {\"designation\": 'Application Developer', \"salary\": 8000}\n",
        "\n",
        "employee_dict = dict.fromkeys(employees, defaults)\n",
        "\n",
        "print(employee_dict)\n"
      ],
      "metadata": {
        "colab": {
          "base_uri": "https://localhost:8080/"
        },
        "id": "65q7sRkpFETm",
        "outputId": "87536cba-3624-4b02-93ae-d87a28910af1"
      },
      "execution_count": 1,
      "outputs": [
        {
          "output_type": "stream",
          "name": "stdout",
          "text": [
            "{'Kelly': {'designation': 'Application Developer', 'salary': 8000}, 'Emma': {'designation': 'Application Developer', 'salary': 8000}, 'John': {'designation': 'Application Developer', 'salary': 8000}}\n"
          ]
        }
      ]
    },
    {
      "cell_type": "markdown",
      "source": [
        "• 3 Delete keys\n",
        "\n",
        "Delete set of keys from a dictionary. Give one line solution.\n",
        "Input:\n",
        "sampleDict = {\n",
        "&quot;name&quot;: &quot;Kelly&quot;,\n",
        "&quot;age&quot;:25,\n",
        "&quot;salary&quot;: 8000,\n",
        "&quot;city&quot;: &quot;New york&quot;\n",
        "}\n",
        "\n",
        "keysToRemove = [&quot;name&quot;, &quot;salary&quot;]\n",
        "Output:\n",
        "{&#39;city&#39;: &#39;New york&#39;, &#39;age&#39;: 25}"
      ],
      "metadata": {
        "id": "I-OhwUzaFR-r"
      }
    },
    {
      "cell_type": "code",
      "source": [
        "sampleDict = {\n",
        "    \"name\": \"Kelly\",\n",
        "    \"age\": 25,\n",
        "    \"salary\": 8000,\n",
        "    \"city\": \"New york\"\n",
        "}\n",
        "\n",
        "keysToRemove = [\"name\", \"salary\"]\n",
        "\n",
        "filteredDict = {key: value for key, value in sampleDict.items() if key not in keysToRemove}\n",
        "\n",
        "print(filteredDict)\n"
      ],
      "metadata": {
        "colab": {
          "base_uri": "https://localhost:8080/"
        },
        "id": "gQrXrut5FWzl",
        "outputId": "b0f37625-3c85-4502-a90a-e85c60619516"
      },
      "execution_count": 3,
      "outputs": [
        {
          "output_type": "stream",
          "name": "stdout",
          "text": [
            "{'age': 25, 'city': 'New york'}\n"
          ]
        }
      ]
    },
    {
      "cell_type": "markdown",
      "source": [
        "4 Set Operations\n",
        "\n",
        "Consider two sets X and Y. You may take any type of values for these sets. Try to find a\n",
        "solution\n",
        "to get a set having all elements in either X or Y, but not both."
      ],
      "metadata": {
        "id": "cL-cXKQCFaTe"
      }
    },
    {
      "cell_type": "code",
      "source": [
        "X = {1, 2, 3, 4, 5}\n",
        "Y = {4, 5, 6, 7, 8}\n",
        "\n",
        "result = X ^ Y  # Symmetric difference\n",
        "\n",
        "print(result)\n"
      ],
      "metadata": {
        "colab": {
          "base_uri": "https://localhost:8080/"
        },
        "id": "XT9r57idFfTp",
        "outputId": "61037682-5d6e-4034-8a05-3d3e5b6af614"
      },
      "execution_count": 4,
      "outputs": [
        {
          "output_type": "stream",
          "name": "stdout",
          "text": [
            "{1, 2, 3, 6, 7, 8}\n"
          ]
        }
      ]
    },
    {
      "cell_type": "markdown",
      "source": [
        "5 Exception Handling for Division\n",
        "\n",
        "Write a function to divide two numbers P and Q. Implement exception handling technique\n",
        "(try..except clause) for handling possible exceptions in the scenario."
      ],
      "metadata": {
        "id": "yGZx8fYRFhPP"
      }
    },
    {
      "cell_type": "code",
      "source": [
        "def safe_divide(P, Q):\n",
        "    try:\n",
        "        result = P / Q\n",
        "        return f\"Result: {result}\"\n",
        "    except ZeroDivisionError:\n",
        "        return \"Error: Division by zero is not allowed.\"\n",
        "    except TypeError:\n",
        "        return \"Error: Both inputs must be numbers.\"\n",
        "    except Exception as e:\n",
        "        return f\"Unexpected error: {e}\"\n",
        "\n",
        "# Example usage:\n",
        "print(safe_divide(10, 2))   # Output: Result: 5.0\n",
        "print(safe_divide(10, 0))   # Output: Error: Division by zero is not allowed.\n",
        "print(safe_divide(10, 'a')) # Output: Error: Both inputs must be numbers.\n"
      ],
      "metadata": {
        "colab": {
          "base_uri": "https://localhost:8080/"
        },
        "id": "XxSsBwG_FnC7",
        "outputId": "4107cc8e-08b9-40be-eaa5-06b0c4886eff"
      },
      "execution_count": 5,
      "outputs": [
        {
          "output_type": "stream",
          "name": "stdout",
          "text": [
            "Result: 5.0\n",
            "Error: Division by zero is not allowed.\n",
            "Error: Both inputs must be numbers.\n"
          ]
        }
      ]
    }
  ]
}